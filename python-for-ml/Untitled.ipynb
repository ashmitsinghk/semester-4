{
 "cells": [
  {
   "cell_type": "code",
   "execution_count": 1,
   "id": "19e8a72a-8046-4f06-9669-073beb64ed64",
   "metadata": {},
   "outputs": [
    {
     "name": "stdin",
     "output_type": "stream",
     "text": [
      "Enter no.: 5\n"
     ]
    },
    {
     "name": "stdout",
     "output_type": "stream",
     "text": [
      "120\n"
     ]
    }
   ],
   "source": [
    "num = eval(input(\"Enter no.:\"))\n",
    "\n",
    "def factorial(n):\n",
    "    if n==1:\n",
    "        return 1\n",
    "    else:\n",
    "        return(n*factorial(n-1))\n",
    "        \n",
    "print(factorial(num))"
   ]
  },
  {
   "cell_type": "code",
   "execution_count": 4,
   "id": "e04cff30-9805-47b9-a7a0-8f7853a03d1a",
   "metadata": {},
   "outputs": [
    {
     "name": "stdin",
     "output_type": "stream",
     "text": [
      "Enter no. of terms: 5\n"
     ]
    },
    {
     "name": "stdout",
     "output_type": "stream",
     "text": [
      "0\n",
      "1\n",
      "1\n",
      "2\n",
      "3\n"
     ]
    }
   ],
   "source": [
    "num = eval(input(\"Enter no. of terms:\"))\n",
    "\n",
    "def fibonacci(n):\n",
    "    a = 0\n",
    "    b = 1\n",
    "    if n<2:\n",
    "        print(\"No. of terms must be greater than 2\")\n",
    "    else:\n",
    "        print(a)\n",
    "        print(b)\n",
    "        for i in range(n-2):\n",
    "            c = a+b\n",
    "            print(c)\n",
    "            a = b\n",
    "            b = c\n",
    "\n",
    "fibonacci(num)"
   ]
  },
  {
   "cell_type": "code",
   "execution_count": null,
   "id": "cc703927-30e2-440a-9df3-b77caf085cea",
   "metadata": {},
   "outputs": [],
   "source": []
  }
 ],
 "metadata": {
  "kernelspec": {
   "display_name": "Python 3 (ipykernel)",
   "language": "python",
   "name": "python3"
  },
  "language_info": {
   "codemirror_mode": {
    "name": "ipython",
    "version": 3
   },
   "file_extension": ".py",
   "mimetype": "text/x-python",
   "name": "python",
   "nbconvert_exporter": "python",
   "pygments_lexer": "ipython3",
   "version": "3.12.7"
  }
 },
 "nbformat": 4,
 "nbformat_minor": 5
}
