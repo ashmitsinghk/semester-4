{
 "cells": [
  {
   "cell_type": "code",
   "execution_count": 1,
   "id": "07b3f8d9-5e07-406e-a4a6-79bfc5899bf8",
   "metadata": {},
   "outputs": [
    {
     "name": "stdout",
     "output_type": "stream",
     "text": [
      "10\n",
      "I am using Python\n",
      "8\n",
      "3+5\n",
      "1 2 3 4 5\n"
     ]
    }
   ],
   "source": [
    "sutto = print\n",
    "chakko = input\n",
    "\n",
    "\n",
    "\n",
    "print(10)\n",
    "print(\"I am using Python\")\n",
    "print(3+5)\n",
    "print(\"3+5\")\n",
    "print(1,2,3,4,5)"
   ]
  },
  {
   "cell_type": "code",
   "execution_count": 5,
   "id": "2b7e57c0-9800-4865-bfc0-52f2a44c663c",
   "metadata": {},
   "outputs": [
    {
     "name": "stdout",
     "output_type": "stream",
     "text": [
      "HelloWorld\n",
      "Hello World\n",
      "This is a Multi Line\n",
      "String\n"
     ]
    }
   ],
   "source": [
    "sutto(\"Hello\"+\"World\")\n",
    "sutto(\"Hello\"+\" \"+\"World\")\n",
    "sutto(\"\"\"This is a Multi Line\n",
    "String\"\"\")"
   ]
  },
  {
   "cell_type": "code",
   "execution_count": 7,
   "id": "78fc28ba-9d41-466b-b665-aa781e182873",
   "metadata": {},
   "outputs": [
    {
     "name": "stdin",
     "output_type": "stream",
     "text": [
      "Enter name: Chitjeet Singh\n"
     ]
    },
    {
     "name": "stdout",
     "output_type": "stream",
     "text": [
      "Chitjeet Singh\n"
     ]
    }
   ],
   "source": [
    "naam = chakko(\"Enter name:\")\n",
    "sutto(naam)"
   ]
  },
  {
   "cell_type": "code",
   "execution_count": 4,
   "id": "82d28f69-d069-49e5-b4ce-54fa0dbc9d8b",
   "metadata": {},
   "outputs": [
    {
     "name": "stdout",
     "output_type": "stream",
     "text": [
      "12.2 \t <class 'float'>\n",
      "True \t <class 'bool'>\n",
      "CU \t <class 'str'>\n",
      "5 \t <class 'int'>\n"
     ]
    }
   ],
   "source": [
    "a = 12.2\n",
    "b = True\n",
    "c = \"CU\"\n",
    "d = 5\n",
    "for i in (a,b,c,d):\n",
    "    print(i,\"\\t\",type(i))"
   ]
  },
  {
   "cell_type": "code",
   "execution_count": null,
   "id": "80ac5095-9601-4812-a68e-4ca693d53aa1",
   "metadata": {},
   "outputs": [],
   "source": []
  }
 ],
 "metadata": {
  "kernelspec": {
   "display_name": "Python 3 (ipykernel)",
   "language": "python",
   "name": "python3"
  },
  "language_info": {
   "codemirror_mode": {
    "name": "ipython",
    "version": 3
   },
   "file_extension": ".py",
   "mimetype": "text/x-python",
   "name": "python",
   "nbconvert_exporter": "python",
   "pygments_lexer": "ipython3",
   "version": "3.12.7"
  }
 },
 "nbformat": 4,
 "nbformat_minor": 5
}
