{
 "cells": [
  {
   "cell_type": "code",
   "execution_count": 1,
   "id": "b680dbec-67d1-407a-8850-7e9b5ab92d87",
   "metadata": {},
   "outputs": [
    {
     "name": "stdout",
     "output_type": "stream",
     "text": [
      "324\n"
     ]
    }
   ],
   "source": [
    "list1 = [3,4,6,2,14,98,324,64,56]\n",
    "print(max(list1))"
   ]
  },
  {
   "cell_type": "code",
   "execution_count": 2,
   "id": "13ac5f30-4581-4600-b077-4d89120c0050",
   "metadata": {},
   "outputs": [
    {
     "name": "stdout",
     "output_type": "stream",
     "text": [
      "[56, 4, 6, 2, 14, 98, 324, 64, 3]\n"
     ]
    }
   ],
   "source": [
    "if list1!=[] or len(list1) !=1:\n",
    "    list1[0], list1[len(list1)-1] = list1[len(list1)-1], list1[0]\n",
    "print(list1)"
   ]
  },
  {
   "cell_type": "code",
   "execution_count": 3,
   "id": "cb0bc6e1-63cf-4107-b819-e8c96bbb40bb",
   "metadata": {},
   "outputs": [
    {
     "name": "stdout",
     "output_type": "stream",
     "text": [
      "571\n"
     ]
    }
   ],
   "source": [
    "print(sum(list1))"
   ]
  },
  {
   "cell_type": "code",
   "execution_count": 4,
   "id": "ee2071d0-fd11-486a-8166-0a4c028fe377",
   "metadata": {},
   "outputs": [
    {
     "name": "stdout",
     "output_type": "stream",
     "text": [
      "[56, 4, 6, 2, 14, 98, 324, 64, 3]\n",
      "[56, 4, 2, 14, 98, 324, 64, 3]\n"
     ]
    }
   ],
   "source": [
    "print(list1)\n",
    "list1.remove(6)\n",
    "print(list1)"
   ]
  },
  {
   "cell_type": "code",
   "execution_count": 5,
   "id": "e5360b38-822f-40d8-a511-0c82678aeae6",
   "metadata": {},
   "outputs": [
    {
     "name": "stdout",
     "output_type": "stream",
     "text": [
      "[56, 4, 2, 14, 98, 324, 64, 3, 5, 2, 78, 34, 16, 90]\n"
     ]
    }
   ],
   "source": [
    "list2=[5,2,78,34,16,90]\n",
    "list2 = list1 + list2\n",
    "print(list2)"
   ]
  },
  {
   "cell_type": "code",
   "execution_count": 13,
   "id": "817eaf12-db1a-4da8-b08e-23c3e3344106",
   "metadata": {},
   "outputs": [
    {
     "name": "stdout",
     "output_type": "stream",
     "text": [
      "Counter({56: 1, 4: 1, 2: 1, 14: 1, 98: 1, 324: 1, 64: 1, 3: 1})\n"
     ]
    }
   ],
   "source": [
    "from collections import Counter\n",
    "\n",
    "frequency_dict = Counter(list1) \n",
    "\n",
    "print(frequency_dict)"
   ]
  },
  {
   "cell_type": "code",
   "execution_count": null,
   "id": "85806f46-5b07-482a-bfd1-8f11c48b7563",
   "metadata": {},
   "outputs": [],
   "source": []
  }
 ],
 "metadata": {
  "kernelspec": {
   "display_name": "Python 3 (ipykernel)",
   "language": "python",
   "name": "python3"
  },
  "language_info": {
   "codemirror_mode": {
    "name": "ipython",
    "version": 3
   },
   "file_extension": ".py",
   "mimetype": "text/x-python",
   "name": "python",
   "nbconvert_exporter": "python",
   "pygments_lexer": "ipython3",
   "version": "3.12.7"
  }
 },
 "nbformat": 4,
 "nbformat_minor": 5
}
