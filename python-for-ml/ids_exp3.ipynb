{
 "cells": [
  {
   "cell_type": "code",
   "execution_count": 1,
   "id": "26825f35-f20c-4bec-8805-1871be0c34a0",
   "metadata": {},
   "outputs": [
    {
     "name": "stdout",
     "output_type": "stream",
     "text": [
      "git version 2.47.1.windows.2\n"
     ]
    }
   ],
   "source": [
    "!git --version"
   ]
  },
  {
   "cell_type": "code",
   "execution_count": 2,
   "id": "dc31cacf-a8a6-42e2-8736-899c5a1dcb98",
   "metadata": {},
   "outputs": [],
   "source": [
    "!git config --global user.name \"ashmitsinghk\"\n",
    "\n",
    "!git config --global user.email \"ashmit.singh.k@gmail.com\""
   ]
  },
  {
   "cell_type": "code",
   "execution_count": 3,
   "id": "6e1fc57a-c27e-4ad9-ad22-153a9b2e2db9",
   "metadata": {},
   "outputs": [
    {
     "name": "stderr",
     "output_type": "stream",
     "text": [
      "Cloning into 'semester-4'...\n"
     ]
    }
   ],
   "source": [
    "!git clone https://github.com/ashmitsinghk/semester-4.git"
   ]
  },
  {
   "cell_type": "code",
   "execution_count": 4,
   "id": "c9cb4ab7-675b-40c0-8a55-883e5feb3e56",
   "metadata": {},
   "outputs": [
    {
     "name": "stdout",
     "output_type": "stream",
     "text": [
      "C:\\Users\\Ashmit\\Documents\\GitHub\\semester-4\\python-for-ml\\semester-4\n"
     ]
    }
   ],
   "source": [
    "%cd semester-4"
   ]
  },
  {
   "cell_type": "code",
   "execution_count": 5,
   "id": "d9885e80-2b53-40c6-9e10-3bdabb872d6d",
   "metadata": {},
   "outputs": [],
   "source": [
    "filename = \"example.txt\"\n",
    "\n",
    "with open(filename, \"w\") as file:\n",
    "\n",
    "    file.write(\"This is a demonstration of Git and GitHub integration.\\n\")"
   ]
  },
  {
   "cell_type": "code",
   "execution_count": 6,
   "id": "4162223b-f044-497d-86dc-bd30d338b616",
   "metadata": {},
   "outputs": [],
   "source": [
    "!git add example.txt"
   ]
  },
  {
   "cell_type": "code",
   "execution_count": 7,
   "id": "c1b294e0-34c7-4969-8cff-c4547f0f4bbc",
   "metadata": {},
   "outputs": [
    {
     "name": "stderr",
     "output_type": "stream",
     "text": [
      "error: pathspec 'push' did not match any file(s) known to git\n",
      "error: pathspec 'origin' did not match any file(s) known to git\n",
      "error: pathspec 'main' did not match any file(s) known to git\n"
     ]
    }
   ],
   "source": [
    "!git commit -m \"Added example.txt file with a demonstration message\"!git push origin main"
   ]
  },
  {
   "cell_type": "code",
   "execution_count": 8,
   "id": "778ca22a-e599-4425-8afe-d1374770e996",
   "metadata": {},
   "outputs": [
    {
     "name": "stderr",
     "output_type": "stream",
     "text": [
      "Everything up-to-date\n"
     ]
    }
   ],
   "source": [
    "!git push origin main"
   ]
  },
  {
   "cell_type": "code",
   "execution_count": 9,
   "id": "1b49600c-3e8c-454d-b76d-1a782887e9fe",
   "metadata": {},
   "outputs": [
    {
     "name": "stdout",
     "output_type": "stream",
     "text": [
      "Already up to date.\n"
     ]
    },
    {
     "name": "stderr",
     "output_type": "stream",
     "text": [
      "From https://github.com/ashmitsinghk/semester-4\n",
      " * branch            main       -> FETCH_HEAD\n"
     ]
    }
   ],
   "source": [
    "!git pull origin main"
   ]
  },
  {
   "cell_type": "code",
   "execution_count": 10,
   "id": "63cc152d-8fc2-4893-a2b7-9a6d55cca5d4",
   "metadata": {},
   "outputs": [
    {
     "name": "stdout",
     "output_type": "stream",
     "text": [
      "On branch main\n",
      "Your branch is up to date with 'origin/main'.\n",
      "\n",
      "Changes to be committed:\n",
      "  (use \"git restore --staged <file>...\" to unstage)\n",
      "\tnew file:   example.txt\n",
      "\n"
     ]
    }
   ],
   "source": [
    "!git status"
   ]
  }
 ],
 "metadata": {
  "kernelspec": {
   "display_name": "Python 3 (ipykernel)",
   "language": "python",
   "name": "python3"
  },
  "language_info": {
   "codemirror_mode": {
    "name": "ipython",
    "version": 3
   },
   "file_extension": ".py",
   "mimetype": "text/x-python",
   "name": "python",
   "nbconvert_exporter": "python",
   "pygments_lexer": "ipython3",
   "version": "3.12.7"
  }
 },
 "nbformat": 4,
 "nbformat_minor": 5
}
