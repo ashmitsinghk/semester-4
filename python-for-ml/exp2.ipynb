{
 "cells": [
  {
   "cell_type": "code",
   "execution_count": 13,
   "id": "9420aa2d-f66f-4d2f-a415-26f489e1789e",
   "metadata": {},
   "outputs": [
    {
     "name": "stdin",
     "output_type": "stream",
     "text": [
      "Enter your age: 19\n"
     ]
    },
    {
     "name": "stdout",
     "output_type": "stream",
     "text": [
      "You are an adult\n"
     ]
    }
   ],
   "source": [
    "age = eval(input(\"Enter your age:\"))\n",
    "if age >= 18:\n",
    "  print(\"You are an adult\")\n",
    "elif age >= 13:\n",
    "  print(\"You are a teenager\")\n",
    "else:\n",
    "  print(\"You are a child\")"
   ]
  },
  {
   "cell_type": "code",
   "execution_count": 2,
   "id": "4cf586e3-23c3-47db-9f85-7faa62067ede",
   "metadata": {},
   "outputs": [
    {
     "name": "stdout",
     "output_type": "stream",
     "text": [
      "apple\n",
      "banana\n",
      "cherry\n"
     ]
    }
   ],
   "source": [
    "fruits = [\"apple\", \"banana\", \"cherry\"]\n",
    "for fruit in fruits:\n",
    "  print(fruit)"
   ]
  },
  {
   "cell_type": "code",
   "execution_count": 12,
   "id": "bb26c880-da03-4205-92d9-182fe27682f7",
   "metadata": {},
   "outputs": [
    {
     "name": "stdout",
     "output_type": "stream",
     "text": [
      "2 x  0  =  0\n",
      "2 x  1  =  2\n",
      "2 x  2  =  4\n",
      "2 x  3  =  6\n",
      "2 x  4  =  8\n",
      "2 x  5  =  10\n",
      "2 x  6  =  12\n",
      "2 x  7  =  14\n",
      "2 x  8  =  16\n",
      "2 x  9  =  18\n",
      "2 x  10  =  20\n"
     ]
    }
   ],
   "source": [
    "mult = 0\n",
    "while mult <= 10:\n",
    "  print(\"2 x \", mult, \" = \", 2*mult)\n",
    "  mult += 1"
   ]
  },
  {
   "cell_type": "code",
   "execution_count": null,
   "id": "2869e212-7485-483a-be4a-86ce2661367d",
   "metadata": {},
   "outputs": [],
   "source": []
  }
 ],
 "metadata": {
  "kernelspec": {
   "display_name": "Python 3 (ipykernel)",
   "language": "python",
   "name": "python3"
  },
  "language_info": {
   "codemirror_mode": {
    "name": "ipython",
    "version": 3
   },
   "file_extension": ".py",
   "mimetype": "text/x-python",
   "name": "python",
   "nbconvert_exporter": "python",
   "pygments_lexer": "ipython3",
   "version": "3.12.7"
  }
 },
 "nbformat": 4,
 "nbformat_minor": 5
}
